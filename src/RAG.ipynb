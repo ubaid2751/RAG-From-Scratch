{
 "cells": [
  {
   "cell_type": "code",
   "execution_count": 42,
   "metadata": {},
   "outputs": [
    {
     "name": "stdout",
     "output_type": "stream",
     "text": [
      "File data\\human-nutrition-text.pdf exists.\n"
     ]
    }
   ],
   "source": [
    "import os\n",
    "import requests\n",
    "\n",
    "pdf_path = r\"data\\human-nutrition-text.pdf\"\n",
    "\n",
    "if not os.path.exists(pdf_path):\n",
    "  print(\"File doesn't exist, downloading...\")\n",
    "\n",
    "  url = \"https://pressbooks.oer.hawaii.edu/humannutrition2/open/download?type=pdf\"\n",
    "\n",
    "  filename = pdf_path\n",
    "  response = requests.get(url)\n",
    "\n",
    "  if response.status_code == 200:\n",
    "      with open(filename, \"wb\") as file:\n",
    "          file.write(response.content)\n",
    "      print(f\"The file has been downloaded and saved as {filename}\")\n",
    "  else:\n",
    "      print(f\"Failed to download the file. Status code: {response.status_code}\")\n",
    "else:\n",
    "  print(f\"File {pdf_path} exists.\")"
   ]
  },
  {
   "cell_type": "code",
   "execution_count": 43,
   "metadata": {},
   "outputs": [
    {
     "name": "stderr",
     "output_type": "stream",
     "text": [
      "0it [00:00, ?it/s]"
     ]
    },
    {
     "name": "stderr",
     "output_type": "stream",
     "text": [
      "1208it [00:04, 296.39it/s]\n"
     ]
    },
    {
     "data": {
      "text/plain": [
       "[{'page_number': 1,\n",
       "  'page_char_count': 29,\n",
       "  'page_word_count': 4,\n",
       "  'page_sentence_count_raw': 1,\n",
       "  'page_token_count': 7.25,\n",
       "  'text': 'Human Nutrition: 2020 Edition'},\n",
       " {'page_number': 2,\n",
       "  'page_char_count': 0,\n",
       "  'page_word_count': 1,\n",
       "  'page_sentence_count_raw': 1,\n",
       "  'page_token_count': 0.0,\n",
       "  'text': ''}]"
      ]
     },
     "execution_count": 43,
     "metadata": {},
     "output_type": "execute_result"
    }
   ],
   "source": [
    "import fitz \n",
    "from tqdm.auto import tqdm\n",
    "\n",
    "def text_formatter(text: str) -> str:\n",
    "    \"\"\"Performs minor formatting on text.\"\"\"\n",
    "    cleaned_text = text.replace(\"\\n\", \" \").strip()\n",
    "    return cleaned_text\n",
    "\n",
    "def open_and_read_pdf(pdf_path: str) -> list[dict]:\n",
    "    doc = fitz.open(pdf_path)\n",
    "    pages_and_texts = []\n",
    "    for page_number, page in tqdm(enumerate(doc)):\n",
    "        text = page.get_text()\n",
    "        text = text_formatter(text)\n",
    "        pages_and_texts.append({\"page_number\": page_number + 1,\n",
    "                                \"page_char_count\": len(text),\n",
    "                                \"page_word_count\": len(text.split(\" \")),\n",
    "                                \"page_sentence_count_raw\": len(text.split(\". \")),\n",
    "                                \"page_token_count\": len(text) / 4,\n",
    "                                \"text\": text})\n",
    "    return pages_and_texts\n",
    "\n",
    "pages_and_texts = open_and_read_pdf(pdf_path=pdf_path)\n",
    "pages_and_texts[:2]"
   ]
  },
  {
   "cell_type": "code",
   "execution_count": 44,
   "metadata": {},
   "outputs": [
    {
     "data": {
      "text/plain": [
       "[{'page_number': 456,\n",
       "  'page_char_count': 1808,\n",
       "  'page_word_count': 333,\n",
       "  'page_sentence_count_raw': 14,\n",
       "  'page_token_count': 452.0,\n",
       "  'text': 'Additionally, a person should consume 8 ounces of cooked seafood  every week (typically as two 4-ounce servings) to assure they are  getting the healthy omega-3 fatty acids that have been linked to a  lower risk for heart disease. Another tip is choosing to eat dry beans,  peas, or soy products as a main dish. Some of the menu choices  include chili with kidney and pinto beans, hummus on pita bread,  and black bean enchiladas. You could also enjoy nuts in a variety of  ways. You can put them on a salad, in a stir-fry, or use them as a  topping for steamed vegetables in place of meat or cheese. If you do  not eat meat, the USDA has much more information on how to get  all the protein you need from a plant-based diet. When choosing the  best protein-rich foods to eat, pay attention to the whole nutrient  package and remember to select from a variety of protein sources  to get all the other essential micronutrients.  Protein Quality  While protein is contained in a wide variety of foods, it differs in  quality. High-quality protein contains all the essential amino acids  in the proportions needed by the human body. The amino acid  profile of different foods is therefore one component of protein  quality. Foods that contain some of the essential amino acids are  called incomplete protein sources, while those that contain all nine  essential amino acids are called complete protein sources, or high- quality protein sources. Foods that are complete protein sources  include animal foods such as milk, cheese, eggs, fish, poultry, and  meat, and a few plant foods, such as soy and quinoa. The only  animal-based protein that is not complete is gelatin, which is made  of the protein, collagen.  Figure 6.18 Complete and Incomplete Protein Sources  414  |  Proteins, Diet, and Personal Choices'},\n",
       " {'page_number': 200,\n",
       "  'page_char_count': 1625,\n",
       "  'page_word_count': 286,\n",
       "  'page_sentence_count_raw': 11,\n",
       "  'page_token_count': 406.25,\n",
       "  'text': 'reactions as it can store a large amount of heat, is electrically  neutral, and has a pH of 7.0, meaning it is not acidic or basic.  Additionally, water is involved in many enzymatic reactions as an  agent to break bonds or, by its removal from a molecule, to form  bonds.  Water As a Lubricant/Shock Absorber  Many may view the slimy products of a sneeze as gross, but  sneezing is essential for removing irritants and could not take place  without water. Mucus, which is not only essential to discharge nasal  irritants, is also required for breathing, transportation of nutrients  along the gastrointestinal tract, and elimination of waste materials  through the rectum. Mucus is composed of more than 90 percent  water and a front-line defense against injury and foreign invaders.  It protects tissues from irritants, entraps pathogens, and contains  immune-system cells that destroy pathogens. Water is also the main  component of the lubricating fluid between joints and eases the  movement of articulated bones.  The aqueous and vitreous humors, which are fluids that fill the  extra space in the eyes and the cerebrospinal fluid surrounding  the brain and spinal cord, are primarily water and buffer these  organs against sudden changes in the environment. Watery fluids  surrounding organs provide both chemical and mechanical  protection. Just two weeks after fertilization water fills the amniotic  sac in a pregnant woman providing a cushion of protection for the  developing embryo.  Water As a Temperature Regulator  Another  homeostatic  function  of  the  body,  termed  158  |  Water’s Importance to Vitality'},\n",
       " {'page_number': 458,\n",
       "  'page_char_count': 1389,\n",
       "  'page_word_count': 255,\n",
       "  'page_sentence_count_raw': 9,\n",
       "  'page_token_count': 347.25,\n",
       "  'text': 'Foods  Lacking Amino  Acids  Complementary  Food  Complementary  Menu  Legumes  Methionine,  tryptophan  Grains, nuts,  and seeds  Hummus and  whole-wheat pita  Grains  Lysine, isoleucine,  threonine  Legumes  Cornbread and  kidney bean chili  Nuts and  seeds  Lysine, isoleucine  Legumes  Stir-fried tofu with  cashews  The second component of protein quality is digestibility, as not  all protein sources are equally digested. In general, animal-based  proteins are completely broken down during the process of  digestion, whereas plant-based proteins are not. This is because  some proteins are contained in the plant’s fibrous cell walls and  these pass through the digestive tract unabsorbed by the body.  Protein Digestibility Corrected Amino Acid  Score (PDCAAS)  The PDCAAS is a method adopted by the US Food and Drug  Administration (FDA) to determine a food’s protein quality. It is  calculated using a formula that incorporates the total amount of  amino acids in the food and the amount of protein in the food that  is actually digested by humans. The food’s protein quality is then  ranked against the foods highest in protein quality. Milk protein, egg  whites, whey, and soy all have a ranking of one, the highest ranking.  Other foods’ ranks are listed in Table 6.5 “PDCAAS of Various Foods”.  Table 6.5 PDCAAS of Various Foods  416  |  Proteins, Diet, and Personal Choices'}]"
      ]
     },
     "execution_count": 44,
     "metadata": {},
     "output_type": "execute_result"
    }
   ],
   "source": [
    "import random\n",
    "\n",
    "random.sample(pages_and_texts, k=3)"
   ]
  },
  {
   "cell_type": "code",
   "execution_count": 45,
   "metadata": {},
   "outputs": [
    {
     "data": {
      "text/html": [
       "<div>\n",
       "<style scoped>\n",
       "    .dataframe tbody tr th:only-of-type {\n",
       "        vertical-align: middle;\n",
       "    }\n",
       "\n",
       "    .dataframe tbody tr th {\n",
       "        vertical-align: top;\n",
       "    }\n",
       "\n",
       "    .dataframe thead th {\n",
       "        text-align: right;\n",
       "    }\n",
       "</style>\n",
       "<table border=\"1\" class=\"dataframe\">\n",
       "  <thead>\n",
       "    <tr style=\"text-align: right;\">\n",
       "      <th></th>\n",
       "      <th>page_number</th>\n",
       "      <th>page_char_count</th>\n",
       "      <th>page_word_count</th>\n",
       "      <th>page_sentence_count_raw</th>\n",
       "      <th>page_token_count</th>\n",
       "      <th>text</th>\n",
       "    </tr>\n",
       "  </thead>\n",
       "  <tbody>\n",
       "    <tr>\n",
       "      <th>0</th>\n",
       "      <td>1</td>\n",
       "      <td>29</td>\n",
       "      <td>4</td>\n",
       "      <td>1</td>\n",
       "      <td>7.25</td>\n",
       "      <td>Human Nutrition: 2020 Edition</td>\n",
       "    </tr>\n",
       "    <tr>\n",
       "      <th>1</th>\n",
       "      <td>2</td>\n",
       "      <td>0</td>\n",
       "      <td>1</td>\n",
       "      <td>1</td>\n",
       "      <td>0.00</td>\n",
       "      <td></td>\n",
       "    </tr>\n",
       "    <tr>\n",
       "      <th>2</th>\n",
       "      <td>3</td>\n",
       "      <td>320</td>\n",
       "      <td>54</td>\n",
       "      <td>1</td>\n",
       "      <td>80.00</td>\n",
       "      <td>Human Nutrition: 2020  Edition  UNIVERSITY OF ...</td>\n",
       "    </tr>\n",
       "    <tr>\n",
       "      <th>3</th>\n",
       "      <td>4</td>\n",
       "      <td>212</td>\n",
       "      <td>32</td>\n",
       "      <td>1</td>\n",
       "      <td>53.00</td>\n",
       "      <td>Human Nutrition: 2020 Edition by University of...</td>\n",
       "    </tr>\n",
       "    <tr>\n",
       "      <th>4</th>\n",
       "      <td>5</td>\n",
       "      <td>797</td>\n",
       "      <td>145</td>\n",
       "      <td>2</td>\n",
       "      <td>199.25</td>\n",
       "      <td>Contents  Preface  University of Hawai‘i at Mā...</td>\n",
       "    </tr>\n",
       "  </tbody>\n",
       "</table>\n",
       "</div>"
      ],
      "text/plain": [
       "   page_number  page_char_count  page_word_count  page_sentence_count_raw  \\\n",
       "0            1               29                4                        1   \n",
       "1            2                0                1                        1   \n",
       "2            3              320               54                        1   \n",
       "3            4              212               32                        1   \n",
       "4            5              797              145                        2   \n",
       "\n",
       "   page_token_count                                               text  \n",
       "0              7.25                      Human Nutrition: 2020 Edition  \n",
       "1              0.00                                                     \n",
       "2             80.00  Human Nutrition: 2020  Edition  UNIVERSITY OF ...  \n",
       "3             53.00  Human Nutrition: 2020 Edition by University of...  \n",
       "4            199.25  Contents  Preface  University of Hawai‘i at Mā...  "
      ]
     },
     "execution_count": 45,
     "metadata": {},
     "output_type": "execute_result"
    }
   ],
   "source": [
    "import pandas as pd\n",
    "\n",
    "df = pd.DataFrame(pages_and_texts)\n",
    "df.head()  "
   ]
  },
  {
   "cell_type": "code",
   "execution_count": 46,
   "metadata": {},
   "outputs": [
    {
     "data": {
      "text/html": [
       "<div>\n",
       "<style scoped>\n",
       "    .dataframe tbody tr th:only-of-type {\n",
       "        vertical-align: middle;\n",
       "    }\n",
       "\n",
       "    .dataframe tbody tr th {\n",
       "        vertical-align: top;\n",
       "    }\n",
       "\n",
       "    .dataframe thead th {\n",
       "        text-align: right;\n",
       "    }\n",
       "</style>\n",
       "<table border=\"1\" class=\"dataframe\">\n",
       "  <thead>\n",
       "    <tr style=\"text-align: right;\">\n",
       "      <th></th>\n",
       "      <th>page_number</th>\n",
       "      <th>page_char_count</th>\n",
       "      <th>page_word_count</th>\n",
       "      <th>page_sentence_count_raw</th>\n",
       "      <th>page_token_count</th>\n",
       "    </tr>\n",
       "  </thead>\n",
       "  <tbody>\n",
       "    <tr>\n",
       "      <th>count</th>\n",
       "      <td>1208.00</td>\n",
       "      <td>1208.00</td>\n",
       "      <td>1208.00</td>\n",
       "      <td>1208.00</td>\n",
       "      <td>1208.00</td>\n",
       "    </tr>\n",
       "    <tr>\n",
       "      <th>mean</th>\n",
       "      <td>604.50</td>\n",
       "      <td>1148.00</td>\n",
       "      <td>198.30</td>\n",
       "      <td>9.97</td>\n",
       "      <td>287.00</td>\n",
       "    </tr>\n",
       "    <tr>\n",
       "      <th>std</th>\n",
       "      <td>348.86</td>\n",
       "      <td>560.38</td>\n",
       "      <td>95.76</td>\n",
       "      <td>6.19</td>\n",
       "      <td>140.10</td>\n",
       "    </tr>\n",
       "    <tr>\n",
       "      <th>min</th>\n",
       "      <td>1.00</td>\n",
       "      <td>0.00</td>\n",
       "      <td>1.00</td>\n",
       "      <td>1.00</td>\n",
       "      <td>0.00</td>\n",
       "    </tr>\n",
       "    <tr>\n",
       "      <th>25%</th>\n",
       "      <td>302.75</td>\n",
       "      <td>762.00</td>\n",
       "      <td>134.00</td>\n",
       "      <td>4.00</td>\n",
       "      <td>190.50</td>\n",
       "    </tr>\n",
       "    <tr>\n",
       "      <th>50%</th>\n",
       "      <td>604.50</td>\n",
       "      <td>1231.50</td>\n",
       "      <td>214.50</td>\n",
       "      <td>10.00</td>\n",
       "      <td>307.88</td>\n",
       "    </tr>\n",
       "    <tr>\n",
       "      <th>75%</th>\n",
       "      <td>906.25</td>\n",
       "      <td>1603.50</td>\n",
       "      <td>271.00</td>\n",
       "      <td>14.00</td>\n",
       "      <td>400.88</td>\n",
       "    </tr>\n",
       "    <tr>\n",
       "      <th>max</th>\n",
       "      <td>1208.00</td>\n",
       "      <td>2308.00</td>\n",
       "      <td>429.00</td>\n",
       "      <td>32.00</td>\n",
       "      <td>577.00</td>\n",
       "    </tr>\n",
       "  </tbody>\n",
       "</table>\n",
       "</div>"
      ],
      "text/plain": [
       "       page_number  page_char_count  page_word_count  page_sentence_count_raw  \\\n",
       "count      1208.00          1208.00          1208.00                  1208.00   \n",
       "mean        604.50          1148.00           198.30                     9.97   \n",
       "std         348.86           560.38            95.76                     6.19   \n",
       "min           1.00             0.00             1.00                     1.00   \n",
       "25%         302.75           762.00           134.00                     4.00   \n",
       "50%         604.50          1231.50           214.50                    10.00   \n",
       "75%         906.25          1603.50           271.00                    14.00   \n",
       "max        1208.00          2308.00           429.00                    32.00   \n",
       "\n",
       "       page_token_count  \n",
       "count           1208.00  \n",
       "mean             287.00  \n",
       "std              140.10  \n",
       "min                0.00  \n",
       "25%              190.50  \n",
       "50%              307.88  \n",
       "75%              400.88  \n",
       "max              577.00  "
      ]
     },
     "execution_count": 46,
     "metadata": {},
     "output_type": "execute_result"
    }
   ],
   "source": [
    "df.describe().round(2)"
   ]
  },
  {
   "cell_type": "markdown",
   "metadata": {},
   "source": [
    "## Further text processing"
   ]
  },
  {
   "cell_type": "code",
   "execution_count": 47,
   "metadata": {},
   "outputs": [
    {
     "data": {
      "text/plain": [
       "<spacy.pipeline.sentencizer.Sentencizer at 0x74f22204dcc0>"
      ]
     },
     "execution_count": 47,
     "metadata": {},
     "output_type": "execute_result"
    }
   ],
   "source": [
    "from spacy.lang.en import English\n",
    "\n",
    "nlp = English()\n",
    "nlp.add_pipe(\"sentencizer\")"
   ]
  },
  {
   "cell_type": "code",
   "execution_count": 48,
   "metadata": {},
   "outputs": [
    {
     "name": "stderr",
     "output_type": "stream",
     "text": [
      "100%|██████████| 1208/1208 [00:04<00:00, 261.51it/s]\n"
     ]
    }
   ],
   "source": [
    "for item in tqdm(pages_and_texts):\n",
    "    item[\"sentences\"] = list(nlp(item[\"text\"]).sents)\n",
    "    item[\"sentences\"] = [str(sentence) for sentence in item[\"sentences\"]]\n",
    "    item[\"page_sentence_count\"] = len(item[\"sentences\"])"
   ]
  },
  {
   "cell_type": "code",
   "execution_count": 49,
   "metadata": {},
   "outputs": [
    {
     "data": {
      "text/plain": [
       "[{'page_number': 654,\n",
       "  'page_char_count': 993,\n",
       "  'page_word_count': 158,\n",
       "  'page_sentence_count_raw': 5,\n",
       "  'page_token_count': 248.25,\n",
       "  'text': 'gastrointestinal disorders and diseases, such as Crohn’s disease and  kidney disease, as well as the aging process, impair mineral  absorption, putting people with malabsorption conditions and the  elderly at higher risk for mineral deficiencies.  Learning Activities  Technology Note: The second edition of the Human  Nutrition Open Educational Resource (OER) textbook  features interactive learning activities.\\xa0 These activities are  available in the web-based textbook and not available in the  downloadable versions (EPUB, Digital PDF, Print_PDF, or  Open Document).  Learning activities may be used across various mobile  devices, however, for the best user experience it is strongly  recommended that users complete these activities using a  desktop or laptop computer and in Google Chrome.  \\xa0 An interactive or media element has been  excluded from this version of the text. You can  view it online here:  http://pressbooks.oer.hawaii.edu/ humannutrition2/?p=360  \\xa0 612  |  Introduction',\n",
       "  'sentences': ['gastrointestinal disorders and diseases, such as Crohn’s disease and  kidney disease, as well as the aging process, impair mineral  absorption, putting people with malabsorption conditions and the  elderly at higher risk for mineral deficiencies.',\n",
       "   ' Learning Activities  Technology Note: The second edition of the Human  Nutrition Open Educational Resource (OER) textbook  features interactive learning activities.',\n",
       "   '\\xa0 These activities are  available in the web-based textbook and not available in the  downloadable versions (EPUB, Digital PDF, Print_PDF, or  Open Document).',\n",
       "   ' Learning activities may be used across various mobile  devices, however, for the best user experience it is strongly  recommended that users complete these activities using a  desktop or laptop computer and in Google Chrome.',\n",
       "   ' \\xa0 An interactive or media element has been  excluded from this version of the text.',\n",
       "   'You can  view it online here:  http://pressbooks.oer.hawaii.edu/ humannutrition2/?p=360  \\xa0 612  |  Introduction'],\n",
       "  'page_sentence_count': 6}]"
      ]
     },
     "execution_count": 49,
     "metadata": {},
     "output_type": "execute_result"
    }
   ],
   "source": [
    "random.sample(pages_and_texts, k=1)"
   ]
  },
  {
   "cell_type": "code",
   "execution_count": 50,
   "metadata": {},
   "outputs": [
    {
     "data": {
      "text/html": [
       "<div>\n",
       "<style scoped>\n",
       "    .dataframe tbody tr th:only-of-type {\n",
       "        vertical-align: middle;\n",
       "    }\n",
       "\n",
       "    .dataframe tbody tr th {\n",
       "        vertical-align: top;\n",
       "    }\n",
       "\n",
       "    .dataframe thead th {\n",
       "        text-align: right;\n",
       "    }\n",
       "</style>\n",
       "<table border=\"1\" class=\"dataframe\">\n",
       "  <thead>\n",
       "    <tr style=\"text-align: right;\">\n",
       "      <th></th>\n",
       "      <th>page_number</th>\n",
       "      <th>page_char_count</th>\n",
       "      <th>page_word_count</th>\n",
       "      <th>page_sentence_count_raw</th>\n",
       "      <th>page_token_count</th>\n",
       "      <th>page_sentence_count</th>\n",
       "    </tr>\n",
       "  </thead>\n",
       "  <tbody>\n",
       "    <tr>\n",
       "      <th>count</th>\n",
       "      <td>1208.00</td>\n",
       "      <td>1208.00</td>\n",
       "      <td>1208.00</td>\n",
       "      <td>1208.00</td>\n",
       "      <td>1208.00</td>\n",
       "      <td>1208.00</td>\n",
       "    </tr>\n",
       "    <tr>\n",
       "      <th>mean</th>\n",
       "      <td>604.50</td>\n",
       "      <td>1148.00</td>\n",
       "      <td>198.30</td>\n",
       "      <td>9.97</td>\n",
       "      <td>287.00</td>\n",
       "      <td>10.32</td>\n",
       "    </tr>\n",
       "    <tr>\n",
       "      <th>std</th>\n",
       "      <td>348.86</td>\n",
       "      <td>560.38</td>\n",
       "      <td>95.76</td>\n",
       "      <td>6.19</td>\n",
       "      <td>140.10</td>\n",
       "      <td>6.30</td>\n",
       "    </tr>\n",
       "    <tr>\n",
       "      <th>min</th>\n",
       "      <td>1.00</td>\n",
       "      <td>0.00</td>\n",
       "      <td>1.00</td>\n",
       "      <td>1.00</td>\n",
       "      <td>0.00</td>\n",
       "      <td>0.00</td>\n",
       "    </tr>\n",
       "    <tr>\n",
       "      <th>25%</th>\n",
       "      <td>302.75</td>\n",
       "      <td>762.00</td>\n",
       "      <td>134.00</td>\n",
       "      <td>4.00</td>\n",
       "      <td>190.50</td>\n",
       "      <td>5.00</td>\n",
       "    </tr>\n",
       "    <tr>\n",
       "      <th>50%</th>\n",
       "      <td>604.50</td>\n",
       "      <td>1231.50</td>\n",
       "      <td>214.50</td>\n",
       "      <td>10.00</td>\n",
       "      <td>307.88</td>\n",
       "      <td>10.00</td>\n",
       "    </tr>\n",
       "    <tr>\n",
       "      <th>75%</th>\n",
       "      <td>906.25</td>\n",
       "      <td>1603.50</td>\n",
       "      <td>271.00</td>\n",
       "      <td>14.00</td>\n",
       "      <td>400.88</td>\n",
       "      <td>15.00</td>\n",
       "    </tr>\n",
       "    <tr>\n",
       "      <th>max</th>\n",
       "      <td>1208.00</td>\n",
       "      <td>2308.00</td>\n",
       "      <td>429.00</td>\n",
       "      <td>32.00</td>\n",
       "      <td>577.00</td>\n",
       "      <td>28.00</td>\n",
       "    </tr>\n",
       "  </tbody>\n",
       "</table>\n",
       "</div>"
      ],
      "text/plain": [
       "       page_number  page_char_count  page_word_count  page_sentence_count_raw  \\\n",
       "count      1208.00          1208.00          1208.00                  1208.00   \n",
       "mean        604.50          1148.00           198.30                     9.97   \n",
       "std         348.86           560.38            95.76                     6.19   \n",
       "min           1.00             0.00             1.00                     1.00   \n",
       "25%         302.75           762.00           134.00                     4.00   \n",
       "50%         604.50          1231.50           214.50                    10.00   \n",
       "75%         906.25          1603.50           271.00                    14.00   \n",
       "max        1208.00          2308.00           429.00                    32.00   \n",
       "\n",
       "       page_token_count  page_sentence_count  \n",
       "count           1208.00              1208.00  \n",
       "mean             287.00                10.32  \n",
       "std              140.10                 6.30  \n",
       "min                0.00                 0.00  \n",
       "25%              190.50                 5.00  \n",
       "50%              307.88                10.00  \n",
       "75%              400.88                15.00  \n",
       "max              577.00                28.00  "
      ]
     },
     "execution_count": 50,
     "metadata": {},
     "output_type": "execute_result"
    }
   ],
   "source": [
    "df = pd.DataFrame(pages_and_texts)\n",
    "df.describe().round(2)"
   ]
  },
  {
   "cell_type": "code",
   "execution_count": 51,
   "metadata": {},
   "outputs": [
    {
     "data": {
      "text/html": [
       "<div>\n",
       "<style scoped>\n",
       "    .dataframe tbody tr th:only-of-type {\n",
       "        vertical-align: middle;\n",
       "    }\n",
       "\n",
       "    .dataframe tbody tr th {\n",
       "        vertical-align: top;\n",
       "    }\n",
       "\n",
       "    .dataframe thead th {\n",
       "        text-align: right;\n",
       "    }\n",
       "</style>\n",
       "<table border=\"1\" class=\"dataframe\">\n",
       "  <thead>\n",
       "    <tr style=\"text-align: right;\">\n",
       "      <th></th>\n",
       "      <th>page_number</th>\n",
       "      <th>page_char_count</th>\n",
       "      <th>page_word_count</th>\n",
       "      <th>page_sentence_count_raw</th>\n",
       "      <th>page_token_count</th>\n",
       "      <th>text</th>\n",
       "      <th>sentences</th>\n",
       "      <th>page_sentence_count</th>\n",
       "    </tr>\n",
       "  </thead>\n",
       "  <tbody>\n",
       "    <tr>\n",
       "      <th>0</th>\n",
       "      <td>1</td>\n",
       "      <td>29</td>\n",
       "      <td>4</td>\n",
       "      <td>1</td>\n",
       "      <td>7.25</td>\n",
       "      <td>Human Nutrition: 2020 Edition</td>\n",
       "      <td>[Human Nutrition: 2020 Edition]</td>\n",
       "      <td>1</td>\n",
       "    </tr>\n",
       "    <tr>\n",
       "      <th>1</th>\n",
       "      <td>2</td>\n",
       "      <td>0</td>\n",
       "      <td>1</td>\n",
       "      <td>1</td>\n",
       "      <td>0.00</td>\n",
       "      <td></td>\n",
       "      <td>[]</td>\n",
       "      <td>0</td>\n",
       "    </tr>\n",
       "    <tr>\n",
       "      <th>2</th>\n",
       "      <td>3</td>\n",
       "      <td>320</td>\n",
       "      <td>54</td>\n",
       "      <td>1</td>\n",
       "      <td>80.00</td>\n",
       "      <td>Human Nutrition: 2020  Edition  UNIVERSITY OF ...</td>\n",
       "      <td>[Human Nutrition: 2020  Edition  UNIVERSITY OF...</td>\n",
       "      <td>1</td>\n",
       "    </tr>\n",
       "    <tr>\n",
       "      <th>3</th>\n",
       "      <td>4</td>\n",
       "      <td>212</td>\n",
       "      <td>32</td>\n",
       "      <td>1</td>\n",
       "      <td>53.00</td>\n",
       "      <td>Human Nutrition: 2020 Edition by University of...</td>\n",
       "      <td>[Human Nutrition: 2020 Edition by University o...</td>\n",
       "      <td>1</td>\n",
       "    </tr>\n",
       "    <tr>\n",
       "      <th>4</th>\n",
       "      <td>5</td>\n",
       "      <td>797</td>\n",
       "      <td>145</td>\n",
       "      <td>2</td>\n",
       "      <td>199.25</td>\n",
       "      <td>Contents  Preface  University of Hawai‘i at Mā...</td>\n",
       "      <td>[Contents  Preface  University of Hawai‘i at M...</td>\n",
       "      <td>2</td>\n",
       "    </tr>\n",
       "  </tbody>\n",
       "</table>\n",
       "</div>"
      ],
      "text/plain": [
       "   page_number  page_char_count  page_word_count  page_sentence_count_raw  \\\n",
       "0            1               29                4                        1   \n",
       "1            2                0                1                        1   \n",
       "2            3              320               54                        1   \n",
       "3            4              212               32                        1   \n",
       "4            5              797              145                        2   \n",
       "\n",
       "   page_token_count                                               text  \\\n",
       "0              7.25                      Human Nutrition: 2020 Edition   \n",
       "1              0.00                                                      \n",
       "2             80.00  Human Nutrition: 2020  Edition  UNIVERSITY OF ...   \n",
       "3             53.00  Human Nutrition: 2020 Edition by University of...   \n",
       "4            199.25  Contents  Preface  University of Hawai‘i at Mā...   \n",
       "\n",
       "                                           sentences  page_sentence_count  \n",
       "0                    [Human Nutrition: 2020 Edition]                    1  \n",
       "1                                                 []                    0  \n",
       "2  [Human Nutrition: 2020  Edition  UNIVERSITY OF...                    1  \n",
       "3  [Human Nutrition: 2020 Edition by University o...                    1  \n",
       "4  [Contents  Preface  University of Hawai‘i at M...                    2  "
      ]
     },
     "execution_count": 51,
     "metadata": {},
     "output_type": "execute_result"
    }
   ],
   "source": [
    "df.head()"
   ]
  },
  {
   "cell_type": "code",
   "execution_count": 52,
   "metadata": {},
   "outputs": [],
   "source": [
    "num_sentence_chunk_size = 10\n",
    "\n",
    "def split_lists(input_list: list[str], slice_size: int=num_sentence_chunk_size) -> list[list[str]]:\n",
    "    new_list = []\n",
    "    for item in range(0, len(input_list), slice_size):\n",
    "        new_list.append(input_list[item:item + slice_size])\n",
    "        \n",
    "    return new_list"
   ]
  },
  {
   "cell_type": "code",
   "execution_count": 53,
   "metadata": {},
   "outputs": [
    {
     "data": {
      "text/plain": [
       "[[0, 1, 2, 3, 4, 5, 6, 7, 8, 9],\n",
       " [10, 11, 12, 13, 14, 15, 16, 17, 18, 19],\n",
       " [20, 21, 22, 23, 24]]"
      ]
     },
     "execution_count": 53,
     "metadata": {},
     "output_type": "execute_result"
    }
   ],
   "source": [
    "test_list = list(range(25))\n",
    "split_lists(input_list=test_list)"
   ]
  },
  {
   "cell_type": "code",
   "execution_count": 54,
   "metadata": {},
   "outputs": [
    {
     "name": "stderr",
     "output_type": "stream",
     "text": [
      "100%|██████████| 1208/1208 [00:00<00:00, 423745.02it/s]\n"
     ]
    }
   ],
   "source": [
    "for item in tqdm(pages_and_texts):\n",
    "    item[\"sentence_chunks\"] = split_lists(input_list=item[\"sentences\"])\n",
    "    item[\"sentence_chunk_count\"] = len(item[\"sentence_chunks\"])"
   ]
  },
  {
   "cell_type": "code",
   "execution_count": 55,
   "metadata": {},
   "outputs": [
    {
     "data": {
      "text/plain": [
       "[{'page_number': 104,\n",
       "  'page_char_count': 1693,\n",
       "  'page_word_count': 290,\n",
       "  'page_sentence_count_raw': 13,\n",
       "  'page_token_count': 423.25,\n",
       "  'text': 'Basic Biology, Anatomy, and  Physiology  UNIVERSITY OF HAWAI‘I AT MĀNOA FOOD SCIENCE AND HUMAN  NUTRITION PROGRAM AND HUMAN NUTRITION PROGRAM  The Basic Structural and Functional Unit of Life:  The Cell  What distinguishes a living\\xa0organism from an inanimate object? A  living organism conducts self-sustaining biological processes. A cell  is the smallest and most basic form of life.  The cell theory incorporates three principles:  Cells are the most basic building units of life.\\xa0All living things  are composed of cells. New cells are made from preexisting cells,  which divide in two. Who you are has been determined because  of two cells that came together inside your mother’s womb. The  two cells containing all of your genetic information (DNA) united to  begin making new life. Cells divided and differentiated into other  cells with specific roles that led to the formation of the body’s  numerous body organs, systems, blood, blood vessels, bone, tissue,  and skin. As an adult, you are made up of trillions of cells. Each of  your individual cells is a compact and efficient form of life—self- sufficient, yet interdependent upon the other cells within your body  to supply its needs.  Independent single-celled organisms must conduct all the basic  processes of life.\\xa0The single-celled organism must take in nutrients  (energy capture), excrete wastes, detect and respond to its  environment, move, breathe, grow, and reproduce. Even a one- celled organism must be organized to perform these essential  processes. All cells are organized from the atomic level to all its  larger forms. Oxygen and hydrogen atoms combine to make the  62  |  Basic Biology, Anatomy, and Physiology',\n",
       "  'sentences': ['Basic Biology, Anatomy, and  Physiology  UNIVERSITY OF HAWAI‘I AT MĀNOA FOOD SCIENCE AND HUMAN  NUTRITION PROGRAM AND HUMAN NUTRITION PROGRAM  The Basic Structural and Functional Unit of Life:  The Cell  What distinguishes a living\\xa0organism from an inanimate object?',\n",
       "   'A  living organism conducts self-sustaining biological processes.',\n",
       "   'A cell  is the smallest and most basic form of life.',\n",
       "   ' The cell theory incorporates three principles:  Cells are the most basic building units of life.',\n",
       "   '\\xa0All living things  are composed of cells.',\n",
       "   'New cells are made from preexisting cells,  which divide in two.',\n",
       "   'Who you are has been determined because  of two cells that came together inside your mother’s womb.',\n",
       "   'The  two cells containing all of your genetic information (DNA) united to  begin making new life.',\n",
       "   'Cells divided and differentiated into other  cells with specific roles that led to the formation of the body’s  numerous body organs, systems, blood, blood vessels, bone, tissue,  and skin.',\n",
       "   'As an adult, you are made up of trillions of cells.',\n",
       "   'Each of  your individual cells is a compact and efficient form of life—self- sufficient, yet interdependent upon the other cells within your body  to supply its needs.',\n",
       "   ' Independent single-celled organisms must conduct all the basic  processes of life.',\n",
       "   '\\xa0The single-celled organism must take in nutrients  (energy capture), excrete wastes, detect and respond to its  environment, move, breathe, grow, and reproduce.',\n",
       "   'Even a one- celled organism must be organized to perform these essential  processes.',\n",
       "   'All cells are organized from the atomic level to all its  larger forms.',\n",
       "   'Oxygen and hydrogen atoms combine to make the  62  |  Basic Biology, Anatomy, and Physiology'],\n",
       "  'page_sentence_count': 16,\n",
       "  'sentence_chunks': [['Basic Biology, Anatomy, and  Physiology  UNIVERSITY OF HAWAI‘I AT MĀNOA FOOD SCIENCE AND HUMAN  NUTRITION PROGRAM AND HUMAN NUTRITION PROGRAM  The Basic Structural and Functional Unit of Life:  The Cell  What distinguishes a living\\xa0organism from an inanimate object?',\n",
       "    'A  living organism conducts self-sustaining biological processes.',\n",
       "    'A cell  is the smallest and most basic form of life.',\n",
       "    ' The cell theory incorporates three principles:  Cells are the most basic building units of life.',\n",
       "    '\\xa0All living things  are composed of cells.',\n",
       "    'New cells are made from preexisting cells,  which divide in two.',\n",
       "    'Who you are has been determined because  of two cells that came together inside your mother’s womb.',\n",
       "    'The  two cells containing all of your genetic information (DNA) united to  begin making new life.',\n",
       "    'Cells divided and differentiated into other  cells with specific roles that led to the formation of the body’s  numerous body organs, systems, blood, blood vessels, bone, tissue,  and skin.',\n",
       "    'As an adult, you are made up of trillions of cells.'],\n",
       "   ['Each of  your individual cells is a compact and efficient form of life—self- sufficient, yet interdependent upon the other cells within your body  to supply its needs.',\n",
       "    ' Independent single-celled organisms must conduct all the basic  processes of life.',\n",
       "    '\\xa0The single-celled organism must take in nutrients  (energy capture), excrete wastes, detect and respond to its  environment, move, breathe, grow, and reproduce.',\n",
       "    'Even a one- celled organism must be organized to perform these essential  processes.',\n",
       "    'All cells are organized from the atomic level to all its  larger forms.',\n",
       "    'Oxygen and hydrogen atoms combine to make the  62  |  Basic Biology, Anatomy, and Physiology']],\n",
       "  'sentence_chunk_count': 2}]"
      ]
     },
     "execution_count": 55,
     "metadata": {},
     "output_type": "execute_result"
    }
   ],
   "source": [
    "random.sample(pages_and_texts, k=1)"
   ]
  },
  {
   "cell_type": "code",
   "execution_count": null,
   "metadata": {},
   "outputs": [],
   "source": []
  }
 ],
 "metadata": {
  "kernelspec": {
   "display_name": "Python 3",
   "language": "python",
   "name": "python3"
  },
  "language_info": {
   "codemirror_mode": {
    "name": "ipython",
    "version": 3
   },
   "file_extension": ".py",
   "mimetype": "text/x-python",
   "name": "python",
   "nbconvert_exporter": "python",
   "pygments_lexer": "ipython3",
   "version": "3.10.12"
  }
 },
 "nbformat": 4,
 "nbformat_minor": 2
}
