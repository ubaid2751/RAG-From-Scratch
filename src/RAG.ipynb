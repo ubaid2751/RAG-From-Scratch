{
 "cells": [
  {
   "cell_type": "code",
   "execution_count": 1,
   "metadata": {},
   "outputs": [
    {
     "name": "stdout",
     "output_type": "stream",
     "text": [
      "File doesn't exist, downloading...\n",
      "The file has been downloaded and saved as data\\human-nutrition-text.pdf\n"
     ]
    }
   ],
   "source": [
    "import os\n",
    "import requests\n",
    "\n",
    "pdf_path = r\"data\\human-nutrition-text.pdf\"\n",
    "\n",
    "if not os.path.exists(pdf_path):\n",
    "  print(\"File doesn't exist, downloading...\")\n",
    "\n",
    "  url = \"https://pressbooks.oer.hawaii.edu/humannutrition2/open/download?type=pdf\"\n",
    "\n",
    "  filename = pdf_path\n",
    "  response = requests.get(url)\n",
    "\n",
    "  if response.status_code == 200:\n",
    "      with open(filename, \"wb\") as file:\n",
    "          file.write(response.content)\n",
    "      print(f\"The file has been downloaded and saved as {filename}\")\n",
    "  else:\n",
    "      print(f\"Failed to download the file. Status code: {response.status_code}\")\n",
    "else:\n",
    "  print(f\"File {pdf_path} exists.\")"
   ]
  },
  {
   "cell_type": "code",
   "execution_count": 2,
   "metadata": {},
   "outputs": [
    {
     "name": "stderr",
     "output_type": "stream",
     "text": [
      "/home/ubaid/.local/lib/python3.10/site-packages/tqdm/auto.py:21: TqdmWarning: IProgress not found. Please update jupyter and ipywidgets. See https://ipywidgets.readthedocs.io/en/stable/user_install.html\n",
      "  from .autonotebook import tqdm as notebook_tqdm\n",
      "1208it [00:01, 979.00it/s]\n"
     ]
    },
    {
     "data": {
      "text/plain": [
       "[{'page_number': 1,\n",
       "  'page_char_count': 29,\n",
       "  'page_word_count': 4,\n",
       "  'page_sentence_count_raw': 1,\n",
       "  'page_token_count': 7.25,\n",
       "  'text': 'Human Nutrition: 2020 Edition'},\n",
       " {'page_number': 2,\n",
       "  'page_char_count': 0,\n",
       "  'page_word_count': 1,\n",
       "  'page_sentence_count_raw': 1,\n",
       "  'page_token_count': 0.0,\n",
       "  'text': ''}]"
      ]
     },
     "execution_count": 2,
     "metadata": {},
     "output_type": "execute_result"
    }
   ],
   "source": [
    "import fitz \n",
    "from tqdm.auto import tqdm\n",
    "\n",
    "def text_formatter(text: str) -> str:\n",
    "    \"\"\"Performs minor formatting on text.\"\"\"\n",
    "    cleaned_text = text.replace(\"\\n\", \" \").strip()\n",
    "    return cleaned_text\n",
    "\n",
    "def open_and_read_pdf(pdf_path: str) -> list[dict]:\n",
    "    doc = fitz.open(pdf_path)\n",
    "    pages_and_texts = []\n",
    "    for page_number, page in tqdm(enumerate(doc)):\n",
    "        text = page.get_text()\n",
    "        text = text_formatter(text)\n",
    "        pages_and_texts.append({\"page_number\": page_number + 1,\n",
    "                                \"page_char_count\": len(text),\n",
    "                                \"page_word_count\": len(text.split(\" \")),\n",
    "                                \"page_sentence_count_raw\": len(text.split(\". \")),\n",
    "                                \"page_token_count\": len(text) / 4,\n",
    "                                \"text\": text})\n",
    "    return pages_and_texts\n",
    "\n",
    "pages_and_texts = open_and_read_pdf(pdf_path=pdf_path)\n",
    "pages_and_texts[:2]"
   ]
  },
  {
   "cell_type": "code",
   "execution_count": 7,
   "metadata": {},
   "outputs": [
    {
     "data": {
      "text/plain": [
       "[{'page_number': 964,\n",
       "  'page_char_count': 1596,\n",
       "  'page_word_count': 281,\n",
       "  'page_sentence_count_raw': 13,\n",
       "  'page_token_count': 399.0,\n",
       "  'text': 'should be lean, and healthy fats, such as omega-3 fatty acids, are  part of any good diet.  Micronutrients  An increase in certain micronutrients can help maintain health  during this life stage. The recommendations for calcium increase to  1,200 milligrams per day for both men and women to slow bone loss.  Also to help protect bones, vitamin D recommendations increase  to 10–15 micrograms per day for men and women. Vitamin B6  recommendations rise to 1.7 milligrams per day for older men and  1.5 milligrams per day for older women to help lower levels of  homocysteine and protect against cardiovascular disease. As adults  age, the production of stomach acid can decrease and lead to an  overgrowth of bacteria in the small intestine. This can affect the  absorption of vitamin B12\\xa0and cause a deficiency. As a result, older  adults need more B12 than younger adults, and require an intake  of 2.4 micrograms per day, which helps promote healthy brain  functioning. For elderly women, higher iron levels are no longer  needed postmenopause and recommendations decrease to 8  milligrams per day. People over age fifty should eat foods rich with  all of these micronutrients.  Nutritional Concerns for Older Adults  Dietary choices can help improve health during this life stage and  address some of the nutritional concerns that many older adults  face. In addition, there are specific concerns related to nutrition  that affect adults in their later years. They include medical  problems, such as disability and disease, which can impact diet and  922  |  Older Adulthood: The Golden Years'},\n",
       " {'page_number': 969,\n",
       "  'page_char_count': 1726,\n",
       "  'page_word_count': 309,\n",
       "  'page_sentence_count_raw': 17,\n",
       "  'page_token_count': 431.5,\n",
       "  'text': 'live longer and healthier. Conversely, poor nutrition and a lack of  exercise can shorten your life and lead to medical problems. The  right foods provide numerous benefits at every stage of life. They  help an infant grow, an adolescent develop mentally and physically,  a young adult achieve his or her physical peak, and an older adult  cope with aging. Nutritious foods form the foundation of a healthy  life at every age.  Developing Habits  Eating habits develop early in life. They are typically formed within  the first few years and it is believed that they persist for years, if  not for life. So it is important for parents and other caregivers to  help children establish healthy habits and avoid problematic ones.  Children begin expressing their preferences at an early age. Parents  must find a balance between providing a child with an opportunity  for self-expression, helping a child develop healthy habits, and  making sure that a child meets all of their nutritional needs.  Bad habits and poor nutrition have an accrual effect. The foods  you consume in your younger years will impact your health as you  age, from childhood into the later stages of life. As a result, good  nutrition today means optimal health tomorrow. Therefore, it is best  to start making healthy choices from a young age and maintain them  as you mature. However, a recent report published in the American  Journal of Clinical Nutrition, suggests that adopting good nutritional  choices later in life, during the forties, fifties, and even the sixties,  may still help to reduce the risk of chronic disease as you grow  older.8  8.\\xa0Rivlin, RS. (2007). Keeping the Young-Elderly Healthy: Is  Older Adulthood: The Golden Years  |  927'},\n",
       " {'page_number': 72,\n",
       "  'page_char_count': 1715,\n",
       "  'page_word_count': 307,\n",
       "  'page_sentence_count_raw': 17,\n",
       "  'page_token_count': 428.75,\n",
       "  'text': 'Achieving a Healthy Diet  UNIVERSITY OF HAWAI‘I AT MĀNOA FOOD SCIENCE AND HUMAN  NUTRITION PROGRAM AND HUMAN NUTRITION PROGRAM  Achieving a healthy diet is a matter of balancing the quality and  quantity of food that is eaten. There are five key factors that make  up a healthful diet:  1. A diet must be adequate, by providing sufficient amounts of  each essential nutrient, as well as fiber and adequate calories.  2. A balanced diet results when you do not consume one nutrient  at the expense of another, but rather get appropriate amounts  of all nutrients.  3. Calorie control is necessary so that the amount of energy you  get from the nutrients you consume equals the amount of  energy you expend during your day’s activities.  4. Moderation means not eating to the extremes, neither too  much nor too little.  5. Variety refers to consuming different foods from within each  of the food groups on a regular basis.  A healthy diet is one that favors whole foods. As an alternative  to modern processed foods, a healthy diet focuses on “real” fresh  whole foods that have been sustaining people for generations.  Whole foods supply the needed vitamins, minerals, protein,  carbohydrates, fats, and fiber that are essential to good health.  Commercially prepared and fast foods are often lacking nutrients  and often contain inordinate amounts of sugar, salt, saturated and  trans fats, all of which are associated with the development of  diseases such as atherosclerosis, heart disease, stroke, cancer,  obesity, diabetes, and other illnesses. A balanced diet is a mix of food  from the different food groups (vegetables, legumes, fruits, grains,  protein foods, and dairy).  30  |  Achieving a Healthy Diet'}]"
      ]
     },
     "execution_count": 7,
     "metadata": {},
     "output_type": "execute_result"
    }
   ],
   "source": [
    "import random\n",
    "\n",
    "random.sample(pages_and_texts, k=3)"
   ]
  },
  {
   "cell_type": "code",
   "execution_count": null,
   "metadata": {},
   "outputs": [],
   "source": []
  }
 ],
 "metadata": {
  "kernelspec": {
   "display_name": "Python 3",
   "language": "python",
   "name": "python3"
  },
  "language_info": {
   "codemirror_mode": {
    "name": "ipython",
    "version": 3
   },
   "file_extension": ".py",
   "mimetype": "text/x-python",
   "name": "python",
   "nbconvert_exporter": "python",
   "pygments_lexer": "ipython3",
   "version": "3.10.12"
  }
 },
 "nbformat": 4,
 "nbformat_minor": 2
}
